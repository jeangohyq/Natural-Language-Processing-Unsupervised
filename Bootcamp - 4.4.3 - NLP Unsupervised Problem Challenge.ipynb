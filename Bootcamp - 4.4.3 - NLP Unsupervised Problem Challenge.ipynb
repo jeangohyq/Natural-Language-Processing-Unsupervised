{
 "cells": [
  {
   "cell_type": "code",
   "execution_count": 1,
   "metadata": {},
   "outputs": [],
   "source": [
    "import pandas as pd\n",
    "import matplotlib.pyplot as plt\n",
    "import scipy\n",
    "import seaborn as sns\n",
    "import numpy as np\n",
    "%matplotlib inline"
   ]
  },
  {
   "cell_type": "code",
   "execution_count": 2,
   "metadata": {},
   "outputs": [
    {
     "name": "stdout",
     "output_type": "stream",
     "text": [
      "[[['[', 'Emma', 'by', 'Jane', 'Austen', '1816', ']']], [['VOLUME', 'I']], ...]\n"
     ]
    }
   ],
   "source": [
    "from nltk.corpus import gutenberg\n",
    "import re\n",
    "from sklearn.model_selection import train_test_split\n",
    "\n",
    "emma = gutenberg.paras('austen-emma.txt')\n",
    "print(emma[0:100])"
   ]
  },
  {
   "cell_type": "code",
   "execution_count": 26,
   "metadata": {},
   "outputs": [
    {
     "name": "stdout",
     "output_type": "stream",
     "text": [
      "['[ Emma by Jane Austen 1816 ]', 'VOLUME I', 'CHAPTER I', 'Emma Woodhouse , handsome , clever , and rich , with a comfortable home and happy disposition , seemed to unite some of the best blessings of existence ; and had lived nearly twenty - one years in the world with very little to distress or vex her .', \"She was the youngest of the two daughters of a most affectionate , indulgent father ; and had , in consequence of her sister ' s marriage , been mistress of his house from a very early period .\"]\n"
     ]
    }
   ],
   "source": [
    "#Processing\n",
    "emma_paras=[]\n",
    "for paragraph in emma:\n",
    "    para = paragraph[0]\n",
    "    para = [re.sub(r'--', '', word) for word in para]\n",
    "    para = [re.sub(r'VOLUME .*', '', word) for word in para]\n",
    "    para = [re.sub(r'CHAPTER .*', '', word) for word in para]\n",
    "    emma_paras.append(' '.join(para))\n",
    "                   \n",
    "print(emma_paras[0:5])"
   ]
  },
  {
   "cell_type": "code",
   "execution_count": 24,
   "metadata": {},
   "outputs": [
    {
     "name": "stdout",
     "output_type": "stream",
     "text": [
      "Number of features: 1646\n",
      "Original sentence: A very few minutes more , however , completed the present trial .\n",
      "Tf_idf vector: {'minutes': 0.71274503103825837, 'present': 0.70142321085794701}\n"
     ]
    }
   ],
   "source": [
    "from sklearn.feature_extraction.text import TfidfVectorizer\n",
    "X_train, X_test = train_test_split(emma_paras, test_size=0.4, random_state=0)\n",
    "\n",
    "vectorizer = TfidfVectorizer(max_df=0.4, #drop words that occur in more than 40% of the paragraphs\n",
    "                            min_df=3, #only use words that appear at least 3x\n",
    "                            stop_words='english', \n",
    "                            lowercase=True, #convert everything to lower case\n",
    "                            use_idf=True, #use inverse document frequencies in our weighting\n",
    "                            norm=u'l2', #applies a correction factor so short and long paragraphs are treated equally\n",
    "                            smooth_idf=True, #adds 1 to all document frequencies, prevents divide by 0 errors\n",
    "                            ngram_range=(0,3),\n",
    "                            analyzer='word'\n",
    "                           )\n",
    "\n",
    "#applying the vectorizer\n",
    "emma_paras_tfidf = vectorizer.fit_transform(emma_paras)\n",
    "print('Number of features: %d' % emma_paras_tfidf.get_shape()[1])\n",
    "\n",
    "#Split into train and test.\n",
    "X_train_tfidf, X_test_tfidf = train_test_split(emma_paras_tfidf, test_size=0.4, random_state=0)\n",
    "#Reshape the vectorizer\n",
    "X_train_tfidf_csr = X_train_tfidf.tocsr() #Return a copy of this matrix in Compressed Sparse Row format\n",
    "\n",
    "#Number of paragraphs\n",
    "n = X_train_tfidf_csr.shape[0]\n",
    "\n",
    "#A list of dictionaries, one per paragraph\n",
    "tfidf_bypara = [{} for _ in range(0,n)]\n",
    "\n",
    "#List of features\n",
    "terms = vectorizer.get_feature_names()\n",
    "#for each paragraph, list the feature words and their tf-idf scores\n",
    "for i, j in zip(*X_train_tfidf_csr.nonzero()):\n",
    "    tfidf_bypara[i][terms[j]] = X_train_tfidf_csr[i,j]\n",
    "    \n",
    "print('Original sentence:', X_train[5])\n",
    "print('Tf_idf vector:', tfidf_bypara[5])\n",
    "\n",
    "#tf-idf score of 0 indicates that the word was present once in that sentence (log2(1) is 0)\n",
    "#Now we have one vector per paragraph."
   ]
  },
  {
   "cell_type": "code",
   "execution_count": 19,
   "metadata": {},
   "outputs": [
    {
     "name": "stdout",
     "output_type": "stream",
     "text": [
      "Percent variance captured by all components: 40.4191353876\n",
      "Component 0\n",
      "\" Oh !     0.999562\n",
      "\" Oh !     0.999562\n",
      "\" Oh !     0.999562\n",
      "\" Oh !     0.999562\n",
      "\" Oh !     0.999562\n",
      "\" Oh !     0.999562\n",
      "\" Oh !     0.999562\n",
      "\" Oh !     0.999562\n",
      "\" Oh !\"    0.999562\n",
      "\" Oh !     0.999562\n",
      "Name: 0, dtype: float64\n",
      "Component 1\n",
      "Mrs . Weston was acting no part , feigning no feelings in all that she said to him in favour of the event . She had been extremely surprized , never more so , than when Emma first opened the affair to her ; but she saw in it only increase of happiness to all , and had no scruple in urging him to the utmost . She had such a regard for Mr . Knightley , as to think he deserved even her dearest Emma ; and it was in every respect so proper , suitable , and unexceptionable a connexion , and in one respect , one point of the highest importance , so peculiarly eligible , so singularly fortunate , that now it seemed as if Emma could not safely have attached herself to any other creature , and that she had herself been the stupidest of beings in not having thought of it , and wished it long ago . How very few of those men in a rank of life to address Emma would have renounced their own home for Hartfield !    0.557598\n",
      "\" I do not know what your opinion may be , Mrs . Weston ,\" said Mr . Knightley , \" of this great intimacy between Emma and Harriet Smith , but I think it a bad thing .\"                                                                                                                                                                                                                                                                                                                                                                                                                                                                                                                                                                                                                                                                                                                                                                         0.547837\n",
      "\" You are right , Mrs . Weston ,\" said Mr . Knightley warmly , \" Miss Fairfax is as capable as any of us of forming a just opinion of Mrs . Elton .                                                                                                                                                                                                                                                                                                                                                                                                                                                                                                                                                                                                                                                                                                                                                                                              0.541037\n",
      "The intermediate month was the one fixed on , as far as they dared , by Emma and Mr .                                                                                                                                                                                                                                                                                                                                                                                                                                                                                                                                                                                                                                                                                                                                                                                                                                                            0.534630\n",
      "\" In one respect , perhaps , Mr . Elton ' s manners are superior to Mr . Knightley ' s or Mr . Weston ' s .                                                                                                                                                                                                                                                                                                                                                                                                                                                                                                                                                                                                                                                                                                                                                                                                                                      0.532962\n",
      "\" You get upon delicate subjects , Emma ,\" said Mrs . Weston smiling ; \" remember that I am here . Mr .                                                                                                                                                                                                                                                                                                                                                                                                                                                                                                                                                                                                                                                                                                                                                                                                                                          0.532630\n",
      "Mr . Knightley might quarrel with her , but Emma could not quarrel with herself .                                                                                                                                                                                                                                                                                                                                                                                                                                                                                                                                                                                                                                                                                                                                                                                                                                                                0.526890\n",
      "\" Mr . Knightley ,\" said Emma , trying to be lively , but really confused  \" I am in a very extraordinary situation .                                                                                                                                                                                                                                                                                                                                                                                                                                                                                                                                                                                                                                                                                                                                                                                                                            0.502557\n",
      "\" You have made her too tall , Emma ,\" said Mr . Knightley .                                                                                                                                                                                                                                                                                                                                                                                                                                                                                                                                                                                                                                                                                                                                                                                                                                                                                     0.499566\n",
      "The carriage came : and Mr . Woodhouse , always the first object on such occasions , was carefully attended to his own by Mr . Knightley and Mr . Weston ; but not all that either could say could prevent some renewal of alarm at the sight of the snow which had actually fallen , and the discovery of a much darker night than he had been prepared for .                                                                                                                                                                                                                                                                                                                                                                                                                                                                                                                                                                                   0.497357\n",
      "Name: 1, dtype: float64\n",
      "Component 2\n",
      "\" Ah !      0.996449\n",
      "\" Ah !      0.996449\n",
      "\" Ah !      0.996449\n",
      "\" Ah !      0.996449\n",
      "\" Ah !\"     0.996449\n",
      "\" Ah !      0.996449\n",
      "But ah !    0.996449\n",
      "\" Ah !      0.996449\n",
      "\" Ah !      0.996449\n",
      "\" Ah !      0.996449\n",
      "Name: 2, dtype: float64\n",
      "Component 3\n",
      "\" There were misunderstandings between them , Emma ; he said so expressly .    0.614186\n",
      "At first it was downright dulness to Emma .                                    0.606374\n",
      "\" Are you well , my Emma ?\"                                                    0.606374\n",
      "Emma was silenced .                                                            0.606374\n",
      "Emma demurred .                                                                0.606374\n",
      "Emma could not resist .                                                        0.587122\n",
      "\" It is not now worth a regret ,\" said Emma .                                  0.563033\n",
      "\" For shame , Emma !                                                           0.556195\n",
      "Emma was out of hearing .                                                      0.539596\n",
      "\" I am ready ,\" said Emma , \" whenever I am wanted .\"                          0.532158\n",
      "Name: 3, dtype: float64\n",
      "Component 4\n",
      "\" Mr . Knightley was there too , was he ?\"                                                                                                               0.584473\n",
      "Mr . Knightley , however , shewed no triumphant happiness .                                                                                              0.552126\n",
      "Mr . Knightley grew angry .                                                                                                                              0.532328\n",
      "Mr . Knightley might quarrel with her , but Emma could not quarrel with herself .                                                                        0.531499\n",
      "While waiting for the carriage , she found Mr . Knightley by her side .                                                                                  0.526057\n",
      "\"` Mr .                                                                                                                                                  0.517072\n",
      "\" I do not admire it ,\" said Mr . Knightley .                                                                                                            0.513874\n",
      "Mr . Knightley had done all in his power for Mr . Woodhouse ' s entertainment .                                                                          0.490562\n",
      "\" Mr . Knightley ' s air is so remarkably good that it is not fair to compare Mr . Martin with _him_ .                                                   0.478007\n",
      "Mr . Woodhouse at last was off ; but Mr . Knightley , instead of being immediately off likewise , sat down again , seemingly inclined for more chat .    0.474801\n",
      "Name: 4, dtype: float64\n"
     ]
    }
   ],
   "source": [
    "from sklearn.decomposition import TruncatedSVD #Singular Value Decomposition\n",
    "from sklearn.pipeline import make_pipeline\n",
    "from sklearn.preprocessing import Normalizer\n",
    "\n",
    "#Reduce the feature space to 150\n",
    "svd = TruncatedSVD(150)\n",
    "lsa = make_pipeline(svd, Normalizer(copy=False)) #LSA is latent semantic analysis\n",
    "\n",
    "#Run SVD on the training data, then project the training data.\n",
    "X_train_lsa = lsa.fit_transform(X_train_tfidf)\n",
    "\n",
    "variance_explained = svd.explained_variance_ratio_\n",
    "total_variance = variance_explained.sum()\n",
    "print('Percent variance captured by all components:', total_variance*100)\n",
    "\n",
    "#Analyze what sorts of paragraphs our solution considers similar, for the first five identified topics.\n",
    "paras_by_component = pd.DataFrame(X_train_lsa, index=X_train)\n",
    "for i in range(5):\n",
    "    print('Component {}'.format(i))\n",
    "    print(paras_by_component.loc[:,i].sort_values(ascending=False)[0:10])"
   ]
  },
  {
   "cell_type": "markdown",
   "metadata": {},
   "source": []
  },
  {
   "cell_type": "code",
   "execution_count": 20,
   "metadata": {},
   "outputs": [
    {
     "data": {
      "image/png": "[encoded data removed]",
      "text/plain": [
       "<matplotlib.figure.Figure at 0x11925fbe0>"
      ]
     },
     "metadata": {},
     "output_type": "display_data"
    },
    {
     "name": "stdout",
     "output_type": "stream",
     "text": [
      "Key:\n",
      "0 That is _court_ .\n",
      "1 \" Yes , sir , I did indeed ; and I am very much obliged by your kind solicitude about me .\"\n",
      "2 \" How much his business engrosses him already is very plain from the circumstance of his forgetting to inquire for the book you recommended .\n",
      "3 To restrain him as much as might be , by her own manners , she was immediately preparing to speak with exquisite calmness and gravity of the weather and the night ; but scarcely had she begun , scarcely had they passed the sweep - gate and joined the other carriage , than she found her subject cut up  her hand seized  her attention demanded , and Mr . Elton actually making violent love to her : availing himself of the precious opportunity , declaring sentiments which must be already well known , hoping  fearing  adoring  ready to die if she refused him ; but flattering himself that his ardent attachment and unequalled love and unexampled passion could not fail of having some effect , and in short , very much resolved on being seriously accepted as soon as possible .\n",
      "4 Emma smiled and answered \" My visit was of use to the nervous part of her complaint , I hope ; but not even I can charm away a sore throat ; it is a most severe cold indeed .\n",
      "5 A very few minutes more , however , completed the present trial .\n",
      "6 \" I am delighted to hear you speak so stoutly on the subject ,\" replied Emma , smiling ; \" but you do not mean to deny that there was a time  and not very distant either  when you gave me reason to understand that you did care about him ?\"\n",
      "7 \" Very well ; and if he had intended to give her one , he would have told her so .\"\n",
      "8 Some laughed , and answered good - humouredly .\n",
      "9 \" There appeared such a perfectly good understanding among them all \" he began rather quickly , but checking himself , added , \" however , it is impossible for me to say on what terms they really were  how it might all be behind the scenes .\n"
     ]
    }
   ],
   "source": [
    "#Look at similarities of the first 10 sentences in the training set. \n",
    "similarity = np.asarray(np.asmatrix(X_train_lsa) * np.asmatrix(X_train_lsa).T)\n",
    "#Only take the first 10 sentences\n",
    "sim_matrix = pd.DataFrame(similarity,index=X_train).iloc[0:10,0:10]\n",
    "\n",
    "#Make a plot\n",
    "ax = sns.heatmap(sim_matrix, yticklabels=range(10))\n",
    "plt.show()\n",
    "\n",
    "#Generate a key.\n",
    "print('Key:')\n",
    "for i in range(10):\n",
    "    print(i, sim_matrix.index[i])"
   ]
  },
  {
   "cell_type": "code",
   "execution_count": null,
   "metadata": {},
   "outputs": [],
   "source": []
  },
  {
   "cell_type": "code",
   "execution_count": 21,
   "metadata": {},
   "outputs": [
    {
     "name": "stdout",
     "output_type": "stream",
     "text": [
      "Original sentence: \" And I am quite serious too , I assure you ,\" replied Mrs . Elton gaily , \" in resolving to be always on the watch , and employing my friends to watch also , that nothing really unexceptionable may pass us .\"\n",
      "Tf_idf vector: {'mrs elton': 0.21157659858785333, 'unexceptionable': 0.31561346174550337, 'assure': 0.26435634818652987, 'friends': 0.24836402118611367, 'quite': 0.18923241256557075, 'replied mrs': 0.30757901198881377, 'replied': 0.2005942891364296, 'watch': 0.61515802397762753, 'elton': 0.16662157994978016, 'pass': 0.28086814057485349, 'really': 0.21687105446033145, 'mrs': 0.14594719734026135}\n"
     ]
    }
   ],
   "source": [
    "#Trying the model on the test set.\n",
    "#Reshape the vectorizer\n",
    "X_test_tfidf_csr = X_test_tfidf.tocsr() #Return a copy of this matrix in Compressed Sparse Row format\n",
    "\n",
    "#Number of paragraphs\n",
    "n = X_test_tfidf_csr.shape[0]\n",
    "\n",
    "#A list of dictionaries, one per paragraph\n",
    "tfidf_bypara = [{} for _ in range(0,n)]\n",
    "\n",
    "#List of features\n",
    "terms = vectorizer.get_feature_names()\n",
    "#for each paragraph, list the feature words and their tf-idf scores\n",
    "for i, j in zip(*X_test_tfidf_csr.nonzero()):\n",
    "    tfidf_bypara[i][terms[j]] = X_test_tfidf_csr[i,j]\n",
    "    \n",
    "print('Original sentence:', X_test[5])\n",
    "print('Tf_idf vector:', tfidf_bypara[5])\n",
    "\n",
    "#tf-idf score of 0 indicates that the word was present once in that sentence (log2(1) is 0)\n",
    "#Now we have one vector per paragraph."
   ]
  },
  {
   "cell_type": "code",
   "execution_count": 22,
   "metadata": {},
   "outputs": [
    {
     "name": "stdout",
     "output_type": "stream",
     "text": [
      "Percent variance captured by all components: 43.9165698928\n",
      "Component 0\n",
      "\" Oh !       0.999953\n",
      "\" Oh !       0.999953\n",
      "\" Oh no !    0.999953\n",
      "\" Oh !       0.999953\n",
      "\" Oh !       0.999953\n",
      "\" Oh !       0.999953\n",
      "\" Oh !       0.999953\n",
      "\" Oh !       0.999953\n",
      "\" Oh !       0.999953\n",
      "\" Oh !       0.999953\n",
      "Name: 0, dtype: float64\n",
      "Component 1\n",
      "After tea , Mr . and Mrs . Weston , and Mr . Elton sat down with Mr . Woodhouse to cards .                                                                                                                                                                                                                                                                                                                                                                                                                        0.606540\n",
      "Harriet , Mr . Elton , and Mr . Knightley , their own especial set , were the only persons invited to meet them ; the hours were to be early , as well as the numbers few ; Mr . Woodhouse ' s habits and inclination being consulted in every thing .                                                                                                                                                                                                                                                            0.585020\n",
      "\" Well , Mrs . Weston ,\" said Emma triumphantly when he left them , \" what do you say now to Mr . Knightley ' s marrying Jane Fairfax ?\"                                                                                                                                                                                                                                                                                                                                                                          0.567021\n",
      "\" Mr .                                                                                                                                                                                                                                                                                                                                                                                                                                                                                                            0.561490\n",
      "In this walk Emma and Mr . Weston found all the others assembled ; and towards this view she immediately perceived Mr . Knightley and Harriet distinct from the rest , quietly leading the way .                                                                                                                                                                                                                                                                                                                  0.560808\n",
      "Frank turned instantly to Emma , to claim her former promise ; and boasted himself an engaged man , which his father looked his most perfect approbation of  and it then appeared that Mrs . Weston was wanting _him_ to dance with Mrs . Elton himself , and that their business was to help to persuade him into it , which was done pretty soon . Mr . Weston and Mrs . Elton led the way , Mr . Frank Churchill and Miss Woodhouse followed .                                                                 0.539087\n",
      "While she was gone , Mr . Knightley called , and sat some time with Mr . Woodhouse and Emma , till Mr . Woodhouse , who had previously made up his mind to walk out , was persuaded by his daughter not to defer it , and was induced by the entreaties of both , though against the scruples of his own civility , to leave Mr . Knightley for that purpose .                                                                                                                                                    0.536372\n",
      "He had frightened her a little about Mr . Elton ; but when she considered that Mr . Knightley could not have observed him as she had done , neither with the interest , nor ( she must be allowed to tell herself , in spite of Mr . Knightley ' s pretensions ) with the skill of such an observer on such a question as herself , that he had spoken it hastily and in anger , she was able to believe , that he had rather said what he wished resentfully to be true , than what he knew any thing about .    0.518039\n",
      "The result of this distress was , that , with a much more voluntary , cheerful consent than his daughter had ever presumed to hope for at the moment , she was able to fix her wedding - day  and Mr . Elton was called on , within a month from the marriage of Mr . and Mrs . Robert Martin , to join the hands of Mr . Knightley and Miss Woodhouse .                                                                                                                                                          0.500005\n",
      "Mr . Elton had retreated into the card - room , looking ( Emma trusted ) very foolish .                                                                                                                                                                                                                                                                                                                                                                                                                           0.485083\n",
      "Name: 1, dtype: float64\n",
      "Component 2\n",
      "\" Ah !     0.996942\n",
      "\" Ah !     0.996942\n",
      "\" Ah !\"    0.996942\n",
      "\" Ah !     0.996942\n",
      "\" Ah !     0.996942\n",
      "\" Ah !     0.996942\n",
      "\" Ah !     0.996942\n",
      "\" Ah !\"    0.996942\n",
      "\" Ah !     0.996942\n",
      "\" Ah !     0.996942\n",
      "Name: 2, dtype: float64\n",
      "Component 3\n",
      "\" And I do envy him , Emma .                                                            0.582960\n",
      "\" Emma !\"                                                                               0.582960\n",
      "\" My Emma !\"                                                                            0.582960\n",
      "Emma had done .                                                                         0.582960\n",
      "Emma wondered on what , of all the medley , she would fix .                             0.523509\n",
      "Nobody had any information to give ; and , after a few more wonderings , Emma said ,    0.501081\n",
      "Emma denied none of it aloud , and agreed to none of it in private .                    0.496621\n",
      "It was as much as Emma could bear , without being impolite .                            0.486150\n",
      "Emma was extremely confused .                                                           0.484853\n",
      "\" No , no ,\" said Emma , \" it will not reckon low .                                     0.453816\n",
      "Name: 3, dtype: float64\n",
      "Component 4\n",
      "Emma had done .                                                                                                                                     0.561689\n",
      "\" And I do envy him , Emma .                                                                                                                        0.561689\n",
      "\" Emma !\"                                                                                                                                           0.561689\n",
      "\" My Emma !\"                                                                                                                                        0.561689\n",
      "Emma wondered on what , of all the medley , she would fix .                                                                                         0.519321\n",
      "Emma denied none of it aloud , and agreed to none of it in private .                                                                                0.465155\n",
      "It was as much as Emma could bear , without being impolite .                                                                                        0.462045\n",
      "Emma was extremely confused .                                                                                                                       0.454745\n",
      "\" Such an imagination has crossed me , I own , Emma ; and if it never occurred to you before , you may as well take it into consideration now .\"    0.415075\n",
      "Emma and Harriet had been walking together one morning , and , in Emma ' s opinion , had been talking enough of Mr . Elton for that day .           0.408899\n",
      "Name: 4, dtype: float64\n"
     ]
    }
   ],
   "source": [
    "#Reduce the feature space to 150\n",
    "svd = TruncatedSVD(150)\n",
    "lsa = make_pipeline(svd, Normalizer(copy=False)) #LSA is latent semantic analysis\n",
    "\n",
    "#Run SVD on the training data, then project the training data.\n",
    "X_test_lsa = lsa.fit_transform(X_test_tfidf)\n",
    "\n",
    "variance_explained = svd.explained_variance_ratio_\n",
    "total_variance = variance_explained.sum()\n",
    "print('Percent variance captured by all components:', total_variance*100)\n",
    "\n",
    "#Analyze what sorts of paragraphs our solution considers similar, for the first five identified topics.\n",
    "paras_by_component = pd.DataFrame(X_test_lsa, index=X_test)\n",
    "for i in range(5):\n",
    "    print('Component {}'.format(i))\n",
    "    print(paras_by_component.loc[:,i].sort_values(ascending=False)[0:10])"
   ]
  },
  {
   "cell_type": "markdown",
   "metadata": {},
   "source": []
  }
 ],
 "metadata": {
  "kernelspec": {
   "display_name": "Python 3",
   "language": "python",
   "name": "python3"
  },
  "language_info": {
   "codemirror_mode": {
    "name": "ipython",
    "version": 3
   },
   "file_extension": ".py",
   "mimetype": "text/x-python",
   "name": "python",
   "nbconvert_exporter": "python",
   "pygments_lexer": "ipython3",
   "version": "3.6.3"
  }
 },
 "nbformat": 4,
 "nbformat_minor": 2
}
