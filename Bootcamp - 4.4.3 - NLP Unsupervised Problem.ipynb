{
 "cells": [
  {
   "cell_type": "code",
   "execution_count": 20,
   "metadata": {},
   "outputs": [],
   "source": [
    "import pandas as pd\n",
    "import matplotlib.pyplot as plt\n",
    "import scipy\n",
    "import seaborn as sns\n",
    "import numpy as np\n",
    "%matplotlib inline"
   ]
  },
  {
   "cell_type": "code",
   "execution_count": 11,
   "metadata": {},
   "outputs": [
    {
     "name": "stdout",
     "output_type": "stream",
     "text": [
      "[[['[', 'Emma', 'by', 'Jane', 'Austen', '1816', ']']], [['VOLUME', 'I']], ...]\n"
     ]
    }
   ],
   "source": [
    "from nltk.corpus import gutenberg\n",
    "import re\n",
    "from sklearn.model_selection import train_test_split\n",
    "\n",
    "emma = gutenberg.paras('austen-emma.txt')\n",
    "print(emma[0:100])"
   ]
  },
  {
   "cell_type": "code",
   "execution_count": 9,
   "metadata": {},
   "outputs": [
    {
     "name": "stdout",
     "output_type": "stream",
     "text": [
      "['[ Emma by Jane Austen 1816 ]', 'VOLUME I', 'CHAPTER I', 'Emma Woodhouse , handsome , clever , and rich , with a comfortable home and happy disposition , seemed to unite some of the best blessings of existence ; and had lived nearly twenty - one years in the world with very little to distress or vex her .']\n"
     ]
    }
   ],
   "source": [
    "#Processing\n",
    "emma_paras=[]\n",
    "for paragraph in emma:\n",
    "    para = paragraph[0]\n",
    "    para = [re.sub(r'--', '', word) for word in para]\n",
    "    emma_paras.append(' '.join(para))\n",
    "                   \n",
    "print(emma_paras[0:4])"
   ]
  },
  {
   "cell_type": "code",
   "execution_count": 17,
   "metadata": {},
   "outputs": [
    {
     "name": "stdout",
     "output_type": "stream",
     "text": [
      "Number of features: 1948\n",
      "Original sentence: A very few minutes more , however , completed the present trial .\n",
      "Tf_idf vector: {'minutes': 0.71274503103825837, 'present': 0.70142321085794701}\n"
     ]
    }
   ],
   "source": [
    "from sklearn.feature_extraction.text import TfidfVectorizer\n",
    "X_train, X_test = train_test_split(emma_paras, test_size=0.4, random_state=0)\n",
    "\n",
    "vectorizer = TfidfVectorizer(max_df=0.5, #drop words that occur in more than half the paragraphs\n",
    "                            min_df=2, #only use words that appear at least twice\n",
    "                            stop_words='english', \n",
    "                            lowercase=True, #convert everything to lower case\n",
    "                            use_idf=True, #use inverse document frequencies in our weighting\n",
    "                            norm=u'l2', #applies a correction factor so short and long paragraphs are treated equally\n",
    "                            smooth_idf=True #adds 1 to all document frequencies, prevents divide by 0 errors\n",
    "                           )\n",
    "\n",
    "#applying the vectorizer\n",
    "emma_paras_tfidf = vectorizer.fit_transform(emma_paras)\n",
    "print('Number of features: %d' % emma_paras_tfidf.get_shape()[1])\n",
    "\n",
    "#Split into train and test.\n",
    "X_train_tfidf, X_test_tfidf = train_test_split(emma_paras_tfidf, test_size=0.4, random_state=0)\n",
    "#Reshape the vectorizer\n",
    "X_train_tfidf_csr = X_train_tfidf.tocsr() #Return a copy of this matrix in Compressed Sparse Row format\n",
    "\n",
    "#Number of paragraphs\n",
    "n = X_train_tfidf_csr.shape[0]\n",
    "\n",
    "#A list of dictionaries, one per paragraph\n",
    "tfidf_bypara = [{} for _ in range(0,n)]\n",
    "\n",
    "#List of features\n",
    "terms = vectorizer.get_feature_names()\n",
    "#for each paragraph, list the feature words and their tf-idf scores\n",
    "for i, j in zip(*X_train_tfidf_csr.nonzero()):\n",
    "    tfidf_bypara[i][terms[j]] = X_train_tfidf_csr[i,j]\n",
    "    \n",
    "print('Original sentence:', X_train[5])\n",
    "print('Tf_idf vector:', tfidf_bypara[5])\n",
    "\n",
    "#tf-idf score of 0 indicates that the word was present once in that sentence (log2(1) is 0)\n",
    "#Now we have one vector per paragraph."
   ]
  },
  {
   "cell_type": "code",
   "execution_count": 18,
   "metadata": {},
   "outputs": [
    {
     "name": "stdout",
     "output_type": "stream",
     "text": [
      "Percent variance captured by all components: 45.1951167044\n",
      "Component 0\n",
      "\" Oh !    0.99929\n",
      "\" Oh !    0.99929\n",
      "\" Oh !    0.99929\n",
      "\" Oh !    0.99929\n",
      "\" Oh !    0.99929\n",
      "\" Oh !    0.99929\n",
      "\" Oh !    0.99929\n",
      "\" Oh !    0.99929\n",
      "\" Oh !    0.99929\n",
      "\" Oh !    0.99929\n",
      "Name: 0, dtype: float64\n",
      "Component 1\n",
      "\" You have made her too tall , Emma ,\" said Mr . Knightley .                                                                                                                0.633678\n",
      "\" You get upon delicate subjects , Emma ,\" said Mrs . Weston smiling ; \" remember that I am here . Mr .                                                                     0.583287\n",
      "\" I do not know what your opinion may be , Mrs . Weston ,\" said Mr . Knightley , \" of this great intimacy between Emma and Harriet Smith , but I think it a bad thing .\"    0.565639\n",
      "\" You are right , Mrs . Weston ,\" said Mr . Knightley warmly , \" Miss Fairfax is as capable as any of us of forming a just opinion of Mrs . Elton .                         0.557822\n",
      "\" There were misunderstandings between them , Emma ; he said so expressly .                                                                                                 0.528479\n",
      "Mr . Knightley might quarrel with her , but Emma could not quarrel with herself .                                                                                           0.525820\n",
      "Emma found that it was not Mr . Weston ' s fault that the number of privy councillors was not yet larger .                                                                  0.507295\n",
      "\" In one respect , perhaps , Mr . Elton ' s manners are superior to Mr . Knightley ' s or Mr . Weston ' s .                                                                 0.505588\n",
      "\" Now ,\" said Emma , when they were fairly beyond the sweep gates , \" now Mr . Weston , do let me know what has happened .\"                                                 0.500730\n",
      "\" I do not admire it ,\" said Mr . Knightley .                                                                                                                               0.498948\n",
      "Name: 1, dtype: float64\n",
      "Component 2\n",
      "CHAPTER I       0.998890\n",
      "CHAPTER I       0.998890\n",
      "CHAPTER X       0.998890\n",
      "CHAPTER I       0.998890\n",
      "CHAPTER X       0.998890\n",
      "CHAPTER X       0.998890\n",
      "CHAPTER V       0.998890\n",
      "CHAPTER V       0.998890\n",
      "CHAPTER V       0.998890\n",
      "CHAPTER XVII    0.998044\n",
      "Name: 2, dtype: float64\n",
      "Component 3\n",
      "\" Ah !      0.992911\n",
      "But ah !    0.992911\n",
      "\" Ah !      0.992911\n",
      "\" Ah !      0.992911\n",
      "\" Ah !      0.992911\n",
      "\" Ah !      0.992911\n",
      "\" Ah !      0.992911\n",
      "\" Ah !      0.992911\n",
      "\" Ah !      0.992911\n",
      "\" Ah !      0.992911\n",
      "Name: 3, dtype: float64\n",
      "Component 4\n",
      "\" There were misunderstandings between them , Emma ; he said so expressly .    0.650747\n",
      "\" Are you well , my Emma ?\"                                                    0.598638\n",
      "Emma demurred .                                                                0.598638\n",
      "Emma was silenced .                                                            0.587251\n",
      "At first it was downright dulness to Emma .                                    0.586552\n",
      "\" Emma , my dear Emma \"                                                        0.576816\n",
      "Emma could not resist .                                                        0.572255\n",
      "\" For shame , Emma !                                                           0.549857\n",
      "\" It is not now worth a regret ,\" said Emma .                                  0.549644\n",
      "\" It is not fair ,\" said Emma , in a whisper ; \" mine was a random guess .     0.507741\n",
      "Name: 4, dtype: float64\n"
     ]
    }
   ],
   "source": [
    "from sklearn.decomposition import TruncatedSVD #Singular Value Decomposition\n",
    "from sklearn.pipeline import make_pipeline\n",
    "from sklearn.preprocessing import Normalizer\n",
    "\n",
    "#Reduce the feature space to 130\n",
    "svd = TruncatedSVD(130)\n",
    "lsa = make_pipeline(svd, Normalizer(copy=False)) #LSA is latent semantic analysis\n",
    "\n",
    "#Run SVD on the training data, then project the training data.\n",
    "X_train_lsa = lsa.fit_transform(X_train_tfidf)\n",
    "\n",
    "variance_explained = svd.explained_variance_ratio_\n",
    "total_variance = variance_explained.sum()\n",
    "print('Percent variance captured by all components:', total_variance*100)\n",
    "\n",
    "#Analyze what sorts of paragraphs our solution considers similar, for the first five identified topics.\n",
    "paras_by_component = pd.DataFrame(X_train_lsa, index=X_train)\n",
    "for i in range(5):\n",
    "    print('Component {}'.format(i))\n",
    "    print(paras_by_component.loc[:,i].sort_values(ascending=False)[0:10])"
   ]
  },
  {
   "cell_type": "markdown",
   "metadata": {},
   "source": [
    "Component 0 - Oh!\n",
    "Component 1 - Critical dialogue directed at Emma\n",
    "Component 2 - Chapters\n",
    "Component 3 - Ah! exclamations\n",
    "Component 4 - Actions/directions related to Emma"
   ]
  },
  {
   "cell_type": "code",
   "execution_count": 21,
   "metadata": {},
   "outputs": [
    {
     "data": {
      "image/png": "[encoded data removed]",
      "text/plain": [
       "<matplotlib.figure.Figure at 0x119b7dba8>"
      ]
     },
     "metadata": {},
     "output_type": "display_data"
    },
    {
     "name": "stdout",
     "output_type": "stream",
     "text": [
      "Key:\n",
      "0 That is _court_ .\n",
      "1 \" Yes , sir , I did indeed ; and I am very much obliged by your kind solicitude about me .\"\n",
      "2 \" How much his business engrosses him already is very plain from the circumstance of his forgetting to inquire for the book you recommended .\n",
      "3 To restrain him as much as might be , by her own manners , she was immediately preparing to speak with exquisite calmness and gravity of the weather and the night ; but scarcely had she begun , scarcely had they passed the sweep - gate and joined the other carriage , than she found her subject cut up  her hand seized  her attention demanded , and Mr . Elton actually making violent love to her : availing himself of the precious opportunity , declaring sentiments which must be already well known , hoping  fearing  adoring  ready to die if she refused him ; but flattering himself that his ardent attachment and unequalled love and unexampled passion could not fail of having some effect , and in short , very much resolved on being seriously accepted as soon as possible .\n",
      "4 Emma smiled and answered \" My visit was of use to the nervous part of her complaint , I hope ; but not even I can charm away a sore throat ; it is a most severe cold indeed .\n",
      "5 A very few minutes more , however , completed the present trial .\n",
      "6 \" I am delighted to hear you speak so stoutly on the subject ,\" replied Emma , smiling ; \" but you do not mean to deny that there was a time  and not very distant either  when you gave me reason to understand that you did care about him ?\"\n",
      "7 \" Very well ; and if he had intended to give her one , he would have told her so .\"\n",
      "8 Some laughed , and answered good - humouredly .\n",
      "9 \" There appeared such a perfectly good understanding among them all \" he began rather quickly , but checking himself , added , \" however , it is impossible for me to say on what terms they really were  how it might all be behind the scenes .\n"
     ]
    }
   ],
   "source": [
    "#Look at similarities of the first 10 sentences in the training set. \n",
    "similarity = np.asarray(np.asmatrix(X_train_lsa) * np.asmatrix(X_train_lsa).T)\n",
    "#Only take the first 10 sentences\n",
    "sim_matrix = pd.DataFrame(similarity,index=X_train).iloc[0:10,0:10]\n",
    "\n",
    "#Make a plot\n",
    "ax = sns.heatmap(sim_matrix, yticklabels=range(10))\n",
    "plt.show()\n",
    "\n",
    "#Generate a key.\n",
    "print('Key:')\n",
    "for i in range(10):\n",
    "    print(i, sim_matrix.index[i])"
   ]
  },
  {
   "cell_type": "code",
   "execution_count": null,
   "metadata": {},
   "outputs": [],
   "source": []
  },
  {
   "cell_type": "code",
   "execution_count": 22,
   "metadata": {},
   "outputs": [
    {
     "name": "stdout",
     "output_type": "stream",
     "text": [
      "Original sentence: \" And I am quite serious too , I assure you ,\" replied Mrs . Elton gaily , \" in resolving to be always on the watch , and employing my friends to watch also , that nothing really unexceptionable may pass us .\"\n",
      "Tf_idf vector: {'resolving': 0.34243903050458052, 'unexceptionable': 0.31964097921179369, 'assure': 0.26772977783606899, 'friends': 0.25153337406413429, 'quite': 0.19164719184203469, 'replied': 0.20315405638674577, 'watch': 0.62300800500314002, 'elton': 0.16874782424809767, 'pass': 0.28445227585106625, 'really': 0.21963852817625326, 'mrs': 0.14780961753993585}\n"
     ]
    }
   ],
   "source": [
    "#Trying the model on the test set.\n",
    "#Reshape the vectorizer\n",
    "X_test_tfidf_csr = X_test_tfidf.tocsr() #Return a copy of this matrix in Compressed Sparse Row format\n",
    "\n",
    "#Number of paragraphs\n",
    "n = X_test_tfidf_csr.shape[0]\n",
    "\n",
    "#A list of dictionaries, one per paragraph\n",
    "tfidf_bypara = [{} for _ in range(0,n)]\n",
    "\n",
    "#List of features\n",
    "terms = vectorizer.get_feature_names()\n",
    "#for each paragraph, list the feature words and their tf-idf scores\n",
    "for i, j in zip(*X_test_tfidf_csr.nonzero()):\n",
    "    tfidf_bypara[i][terms[j]] = X_test_tfidf_csr[i,j]\n",
    "    \n",
    "print('Original sentence:', X_test[5])\n",
    "print('Tf_idf vector:', tfidf_bypara[5])\n",
    "\n",
    "#tf-idf score of 0 indicates that the word was present once in that sentence (log2(1) is 0)\n",
    "#Now we have one vector per paragraph."
   ]
  },
  {
   "cell_type": "code",
   "execution_count": 27,
   "metadata": {},
   "outputs": [
    {
     "name": "stdout",
     "output_type": "stream",
     "text": [
      "Percent variance captured by all components: 49.3755247306\n",
      "Component 0\n",
      "\" Oh !       0.99992\n",
      "\" Oh !       0.99992\n",
      "\" Oh !       0.99992\n",
      "\" Oh !       0.99992\n",
      "\" Oh !       0.99992\n",
      "\" Oh !       0.99992\n",
      "\" Oh !       0.99992\n",
      "\" Oh !       0.99992\n",
      "\" Oh !       0.99992\n",
      "\" Oh no !    0.99992\n",
      "Name: 0, dtype: float64\n",
      "Component 1\n",
      "\" Well , Mrs . Weston ,\" said Emma triumphantly when he left them , \" what do you say now to Mr . Knightley ' s marrying Jane Fairfax ?\"                                                                                                                                                                                                                                                                                                             0.618506\n",
      "After tea , Mr . and Mrs . Weston , and Mr . Elton sat down with Mr . Woodhouse to cards .                                                                                                                                                                                                                                                                                                                                                           0.596607\n",
      "Frank turned instantly to Emma , to claim her former promise ; and boasted himself an engaged man , which his father looked his most perfect approbation of  and it then appeared that Mrs . Weston was wanting _him_ to dance with Mrs . Elton himself , and that their business was to help to persuade him into it , which was done pretty soon . Mr . Weston and Mrs . Elton led the way , Mr . Frank Churchill and Miss Woodhouse followed .    0.567714\n",
      "\" Mr .                                                                                                                                                                                                                                                                                                                                                                                                                                               0.518303\n",
      "While she was gone , Mr . Knightley called , and sat some time with Mr . Woodhouse and Emma , till Mr . Woodhouse , who had previously made up his mind to walk out , was persuaded by his daughter not to defer it , and was induced by the entreaties of both , though against the scruples of his own civility , to leave Mr . Knightley for that purpose .                                                                                       0.507084\n",
      "Mr . Weston was musing .                                                                                                                                                                                                                                                                                                                                                                                                                             0.506252\n",
      "\" Mrs . Weston ' s manners ,\" said Emma , \" were always particularly good .                                                                                                                                                                                                                                                                                                                                                                          0.496359\n",
      "\" I think , indeed ,\" said John Knightley pleasantly , \" that Mr . Weston has some little claim .                                                                                                                                                                                                                                                                                                                                                    0.488308\n",
      "\" Why , to be sure ,\" said Mr . Woodhouse \" yes , certainly  I cannot deny that Mrs . Weston , poor Mrs . Weston , does come and see us pretty often  but then  she is always obliged to go away again .\"                                                                                                                                                                                                                                            0.487234\n",
      "In this walk Emma and Mr . Weston found all the others assembled ; and towards this view she immediately perceived Mr . Knightley and Harriet distinct from the rest , quietly leading the way .                                                                                                                                                                                                                                                     0.486794\n",
      "Name: 1, dtype: float64\n",
      "Component 2\n",
      "\" Ah !\"    0.996973\n",
      "\" Ah !     0.996973\n",
      "\" Ah !     0.996973\n",
      "\" Ah !\"    0.996973\n",
      "\" Ah !     0.996973\n",
      "\" Ah !     0.996973\n",
      "\" Ah !     0.996973\n",
      "\" Ah !     0.996973\n",
      "\" Ah !     0.996973\n",
      "\" Ah !     0.996973\n",
      "Name: 2, dtype: float64\n",
      "Component 3\n",
      "\" Mr .                                                                                                                                                                                                                                                                                                                                                            0.632445\n",
      "After tea , Mr . and Mrs . Weston , and Mr . Elton sat down with Mr . Woodhouse to cards .                                                                                                                                                                                                                                                                        0.560965\n",
      "Mr . Knightley was thoughtful again .                                                                                                                                                                                                                                                                                                                             0.524463\n",
      "\" You are not vain , Mr . Knightley .                                                                                                                                                                                                                                                                                                                             0.507391\n",
      "Mr . Weston was musing .                                                                                                                                                                                                                                                                                                                                          0.500853\n",
      "Mr . Weston ' s own happiness was indisputable .                                                                                                                                                                                                                                                                                                                  0.458507\n",
      "Harriet , Mr . Elton , and Mr . Knightley , their own especial set , were the only persons invited to meet them ; the hours were to be early , as well as the numbers few ; Mr . Woodhouse ' s habits and inclination being consulted in every thing .                                                                                                            0.409152\n",
      "She meant to be very happy , in spite of the scene being laid at Mr . Cole ' s ; and without being able to forget that among the failings of Mr . Elton , even in the days of his favour , none had disturbed her more than his propensity to dine with Mr . Cole .                                                                                               0.405509\n",
      "\" Christmas weather ,\" observed Mr . Elton .                                                                                                                                                                                                                                                                                                                      0.392986\n",
      "While she was gone , Mr . Knightley called , and sat some time with Mr . Woodhouse and Emma , till Mr . Woodhouse , who had previously made up his mind to walk out , was persuaded by his daughter not to defer it , and was induced by the entreaties of both , though against the scruples of his own civility , to leave Mr . Knightley for that purpose .    0.386689\n",
      "Name: 3, dtype: float64\n",
      "Component 4\n",
      "\" Yes .                                                                         0.652978\n",
      "\" Yes , do .\"                                                                   0.652978\n",
      "\" Yes , sometimes he can .\"                                                     0.652978\n",
      "\" Yes I should , I am sure I should .                                           0.639162\n",
      "\" Yes , so I imagined .                                                         0.609903\n",
      "\" Yes  a good deal _nearer_ .\"                                                  0.562890\n",
      "\" Yes , our good Mrs . Elton .                                                  0.553032\n",
      "\" Yes , she would be , but that she thinks there will be another put - off .    0.544442\n",
      "\" Yes ; but we must not rest our claims on that distinction .                   0.543261\n",
      "\" Yes , very soon .                                                             0.532857\n",
      "Name: 4, dtype: float64\n"
     ]
    }
   ],
   "source": [
    "#Reduce the feature space to 130\n",
    "svd = TruncatedSVD(130)\n",
    "lsa = make_pipeline(svd, Normalizer(copy=False)) #LSA is latent semantic analysis\n",
    "\n",
    "#Run SVD on the training data, then project the training data.\n",
    "X_test_lsa = lsa.fit_transform(X_test_tfidf)\n",
    "\n",
    "variance_explained = svd.explained_variance_ratio_\n",
    "total_variance = variance_explained.sum()\n",
    "print('Percent variance captured by all components:', total_variance*100)\n",
    "\n",
    "#Analyze what sorts of paragraphs our solution considers similar, for the first five identified topics.\n",
    "paras_by_component = pd.DataFrame(X_test_lsa, index=X_test)\n",
    "for i in range(5):\n",
    "    print('Component {}'.format(i))\n",
    "    print(paras_by_component.loc[:,i].sort_values(ascending=False)[0:10])"
   ]
  },
  {
   "cell_type": "markdown",
   "metadata": {},
   "source": [
    "Component 0 - Oh!\n",
    "Component 1 - Conversations between Mrs Weston, Emma, Mr Knightley\n",
    "Component 2 - Ah! \n",
    "Component 3 - Emotions\n",
    "Component 4 - Yes statements"
   ]
  }
 ],
 "metadata": {
  "kernelspec": {
   "display_name": "Python 3",
   "language": "python",
   "name": "python3"
  },
  "language_info": {
   "codemirror_mode": {
    "name": "ipython",
    "version": 3
   },
   "file_extension": ".py",
   "mimetype": "text/x-python",
   "name": "python",
   "nbconvert_exporter": "python",
   "pygments_lexer": "ipython3",
   "version": "3.6.3"
  }
 },
 "nbformat": 4,
 "nbformat_minor": 2
}
